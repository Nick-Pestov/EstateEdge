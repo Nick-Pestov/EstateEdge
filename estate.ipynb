{
 "cells": [
  {
   "cell_type": "code",
   "execution_count": 1,
   "id": "37fb54a7",
   "metadata": {},
   "outputs": [],
   "source": [
    "import os\n",
    "from PIL import Image\n",
    "import numpy as np\n",
    "import ee\n",
    "import geemap"
   ]
  },
  {
   "cell_type": "code",
   "execution_count": 2,
   "id": "f3dbdf75",
   "metadata": {},
   "outputs": [
    {
     "data": {
      "text/html": [
       "\n",
       "            <style>\n",
       "                .geemap-dark {\n",
       "                    --jp-widgets-color: white;\n",
       "                    --jp-widgets-label-color: white;\n",
       "                    --jp-ui-font-color1: white;\n",
       "                    --jp-layout-color2: #454545;\n",
       "                    background-color: #383838;\n",
       "                }\n",
       "                    \n",
       "                .geemap-dark .jupyter-button {\n",
       "                    --jp-layout-color3: #383838;\n",
       "                }\n",
       "                \n",
       "                .geemap-colab {\n",
       "                    background-color: var(--colab-primary-surface-color, white);\n",
       "                }\n",
       "                    \n",
       "                .geemap-colab .jupyter-button {\n",
       "                    --jp-layout-color3: var(--colab-primary-surface-color, white);\n",
       "                }\n",
       "            </style>\n",
       "            "
      ],
      "text/plain": [
       "<IPython.core.display.HTML object>"
      ]
     },
     "metadata": {},
     "output_type": "display_data"
    }
   ],
   "source": [
    "#!python -m pip install geemap\n",
    "#!export PATH=\"/home/u9999ad7367849478acc6568ce06912b/.local/bin:$PATH\"\n",
    "#!python -m pip install dask[complete]\n",
    "#!pip install earthengine-api keras tensorflow\n",
    "#!pip install geemap\n",
    "#!pip install --user dask[dataframe]"
   ]
  },
  {
   "cell_type": "code",
   "execution_count": 3,
   "id": "68b939b4",
   "metadata": {},
   "outputs": [
    {
     "data": {
      "text/html": [
       "\n",
       "            <style>\n",
       "                .geemap-dark {\n",
       "                    --jp-widgets-color: white;\n",
       "                    --jp-widgets-label-color: white;\n",
       "                    --jp-ui-font-color1: white;\n",
       "                    --jp-layout-color2: #454545;\n",
       "                    background-color: #383838;\n",
       "                }\n",
       "                    \n",
       "                .geemap-dark .jupyter-button {\n",
       "                    --jp-layout-color3: #383838;\n",
       "                }\n",
       "                \n",
       "                .geemap-colab {\n",
       "                    background-color: var(--colab-primary-surface-color, white);\n",
       "                }\n",
       "                    \n",
       "                .geemap-colab .jupyter-button {\n",
       "                    --jp-layout-color3: var(--colab-primary-surface-color, white);\n",
       "                }\n",
       "            </style>\n",
       "            "
      ],
      "text/plain": [
       "<IPython.core.display.HTML object>"
      ]
     },
     "metadata": {},
     "output_type": "display_data"
    },
    {
     "data": {
      "text/plain": [
       "True"
      ]
     },
     "execution_count": 3,
     "metadata": {},
     "output_type": "execute_result"
    }
   ],
   "source": [
    "#app = Flask(__name__)\n",
    "ee.Authenticate()"
   ]
  },
  {
   "cell_type": "code",
   "execution_count": 4,
   "id": "69b5d708",
   "metadata": {},
   "outputs": [
    {
     "data": {
      "text/html": [
       "\n",
       "            <style>\n",
       "                .geemap-dark {\n",
       "                    --jp-widgets-color: white;\n",
       "                    --jp-widgets-label-color: white;\n",
       "                    --jp-ui-font-color1: white;\n",
       "                    --jp-layout-color2: #454545;\n",
       "                    background-color: #383838;\n",
       "                }\n",
       "                    \n",
       "                .geemap-dark .jupyter-button {\n",
       "                    --jp-layout-color3: #383838;\n",
       "                }\n",
       "                \n",
       "                .geemap-colab {\n",
       "                    background-color: var(--colab-primary-surface-color, white);\n",
       "                }\n",
       "                    \n",
       "                .geemap-colab .jupyter-button {\n",
       "                    --jp-layout-color3: var(--colab-primary-surface-color, white);\n",
       "                }\n",
       "            </style>\n",
       "            "
      ],
      "text/plain": [
       "<IPython.core.display.HTML object>"
      ]
     },
     "metadata": {},
     "output_type": "display_data"
    }
   ],
   "source": [
    "def RetrieveNAIPimage(lat, long, date2, deltalr=0.00165, deltaud=0.00135, date1='2018-01-01'):\n",
    "    region = ee.Geometry.BBox(long - deltalr, lat - deltaud, long + deltalr, lat + deltaud) \n",
    "    dataset = ee.ImageCollection('USDA/NAIP/DOQQ').filter(ee.Filter.date(date1, date2)).filter(ee.Filter.bounds(region))\n",
    "    return dataset\n",
    "\n",
    "def RetrieveNAIPimage2(lat, long, date2, deltalr=0.00165, deltaud=0.00135, date1='2015-01-01'):\n",
    "    region = ee.Geometry.BBox(long - deltalr, lat - deltaud, long + deltalr, lat + deltaud) \n",
    "    dataset = ee.ImageCollection('USDA/NAIP/DOQQ').filter(ee.Filter.date(date1, date2)).filter(ee.Filter.bounds(region))\n",
    "    return dataset\n",
    "\n",
    "def DisplayMap(dataset, lat, long, verbose = True, deltalr = 0.00165, deltaud = 0.00135, zoom = 18):  \n",
    "    image = dataset.first()\n",
    "    trueColor = dataset.select(['R', 'G', 'B'])\n",
    "    trueColorVis = {\n",
    "      min: 50,\n",
    "      max: 240,\n",
    "    }\n",
    "    if verbose:\n",
    "        display(\"images found \",dataset.size())\n",
    "        print(geemap.image_props(image).getInfo())\n",
    "        print(geemap.image_stats(image, scale=18).getInfo())\n",
    "        display(image.geometry().getInfo())\n",
    "    region = ee.Geometry.BBox(long- deltalr, lat - deltaud, long + deltalr, lat + deltaud)\n",
    "    regionDebug = ee.Geometry.Polygon(image.getInfo()['properties']['system:footprint']['coordinates'])\n",
    "    Map = geemap.Map(center=(lat, long), zoom=18)\n",
    "    Map.addLayer(trueColor, trueColorVis, 'True Color');\n",
    "    Map.addLayer(region, {'color': 'red'}, '500x500 Image Selected')\n",
    "    Map.addLayer(regionDebug, {'color': 'green'}, 'NAIP Image Boundary')\n",
    "    #Map.setOptions('SATELLITE');\n",
    "    image = dataset.first()\n",
    "\n",
    "    return Map "
   ]
  },
  {
   "cell_type": "code",
   "execution_count": 5,
   "id": "2a895d38",
   "metadata": {},
   "outputs": [
    {
     "data": {
      "text/html": [
       "\n",
       "            <style>\n",
       "                .geemap-dark {\n",
       "                    --jp-widgets-color: white;\n",
       "                    --jp-widgets-label-color: white;\n",
       "                    --jp-ui-font-color1: white;\n",
       "                    --jp-layout-color2: #454545;\n",
       "                    background-color: #383838;\n",
       "                }\n",
       "                    \n",
       "                .geemap-dark .jupyter-button {\n",
       "                    --jp-layout-color3: #383838;\n",
       "                }\n",
       "                \n",
       "                .geemap-colab {\n",
       "                    background-color: var(--colab-primary-surface-color, white);\n",
       "                }\n",
       "                    \n",
       "                .geemap-colab .jupyter-button {\n",
       "                    --jp-layout-color3: var(--colab-primary-surface-color, white);\n",
       "                }\n",
       "            </style>\n",
       "            "
      ],
      "text/plain": [
       "<IPython.core.display.HTML object>"
      ]
     },
     "metadata": {},
     "output_type": "display_data"
    }
   ],
   "source": [
    "#def getScores(latitude, longitude)\n",
    "ee.Initialize()\n",
    "def generate_images(longitude,latitude):\n",
    "    long, lat = longitude,latitude # DNM\n",
    "    #lat, long = latitude, longitude\n",
    "    date1 = '2024-02-08'\n",
    "    dataset = RetrieveNAIPimage(lat, long, date1)\n",
    "    date2 = '2017-02-08'\n",
    "    dataset2 = RetrieveNAIPimage2(lat, long, date2)\n",
    "    #Map = DisplayMap(dataset, lat, long, verbose = True, zoom = 18)\n",
    "    #Map\n",
    "    image1 = dataset.first()\n",
    "    image2 = dataset2.first()\n",
    "    deltalr = 0.00164\n",
    "    deltaud = 0.00134\n",
    "    region = ee.Geometry.BBox(long - deltalr, lat - deltaud, long + deltalr, lat + deltaud)\n",
    "    rgb_img = geemap.ee_to_numpy(image1, bands=['R', 'G', 'B'], region=region)\n",
    "    rgb_img\n",
    "    rgb_img2 = geemap.ee_to_numpy(image2, bands=['R', 'G', 'B'], region=region)\n",
    "    rgb_img2\n",
    "    # Convert the RGB image to a PIL Image\n",
    "    pil_img = Image.fromarray(np.uint8(rgb_img))\n",
    "    pil_img2 = Image.fromarray(np.uint8(rgb_img2))\n",
    "    save_image(pil_img,pil_img2)\n",
    "\n",
    "def save_image(pil_img,pil_img2):\n",
    "    # Save the PIL Image as JPEG\n",
    "    output_filename = \"output_image.jpg\"\n",
    "    pil_img.save(output_filename)\n",
    "    # Save the PIL Image as JPEG\n",
    "    output_filename = \"output_image2.jpg\"\n",
    "    pil_img2.save(output_filename)\n",
    "\n",
    "    #print(\"Image saved as\", output_filename)\n",
    "\n",
    "#rgb_img = ee.Image(image1).clipToBoundsAndScale(region=region).toInt().getInfo()\n",
    "#rgb_img2 = ee.Image(image2).clipToBoundsAndScale(region=region).toInt().getInfo()\n"
   ]
  },
  {
   "cell_type": "code",
   "execution_count": 6,
   "id": "1927f8bd",
   "metadata": {},
   "outputs": [
    {
     "data": {
      "text/html": [
       "\n",
       "            <style>\n",
       "                .geemap-dark {\n",
       "                    --jp-widgets-color: white;\n",
       "                    --jp-widgets-label-color: white;\n",
       "                    --jp-ui-font-color1: white;\n",
       "                    --jp-layout-color2: #454545;\n",
       "                    background-color: #383838;\n",
       "                }\n",
       "                    \n",
       "                .geemap-dark .jupyter-button {\n",
       "                    --jp-layout-color3: #383838;\n",
       "                }\n",
       "                \n",
       "                .geemap-colab {\n",
       "                    background-color: var(--colab-primary-surface-color, white);\n",
       "                }\n",
       "                    \n",
       "                .geemap-colab .jupyter-button {\n",
       "                    --jp-layout-color3: var(--colab-primary-surface-color, white);\n",
       "                }\n",
       "            </style>\n",
       "            "
      ],
      "text/plain": [
       "<IPython.core.display.HTML object>"
      ]
     },
     "metadata": {},
     "output_type": "display_data"
    },
    {
     "name": "stderr",
     "output_type": "stream",
     "text": [
      "2024-02-11 05:10:48.389062: I tensorflow/core/util/port.cc:113] oneDNN custom operations are on. You may see slightly different numerical results due to floating-point round-off errors from different computation orders. To turn them off, set the environment variable `TF_ENABLE_ONEDNN_OPTS=0`.\n",
      "2024-02-11 05:10:48.479289: E external/local_xla/xla/stream_executor/cuda/cuda_dnn.cc:9261] Unable to register cuDNN factory: Attempting to register factory for plugin cuDNN when one has already been registered\n",
      "2024-02-11 05:10:48.479370: E external/local_xla/xla/stream_executor/cuda/cuda_fft.cc:607] Unable to register cuFFT factory: Attempting to register factory for plugin cuFFT when one has already been registered\n",
      "2024-02-11 05:10:48.482205: E external/local_xla/xla/stream_executor/cuda/cuda_blas.cc:1515] Unable to register cuBLAS factory: Attempting to register factory for plugin cuBLAS when one has already been registered\n",
      "2024-02-11 05:10:48.497740: I tensorflow/core/platform/cpu_feature_guard.cc:182] This TensorFlow binary is optimized to use available CPU instructions in performance-critical operations.\n",
      "To enable the following instructions: AVX2 AVX512F AVX512_VNNI AVX512_BF16 AVX_VNNI AMX_TILE AMX_INT8 AMX_BF16 FMA, in other operations, rebuild TensorFlow with the appropriate compiler flags.\n",
      "2024-02-11 05:10:52.426976: W tensorflow/compiler/tf2tensorrt/utils/py_utils.cc:38] TF-TRT Warning: Could not find TensorRT\n"
     ]
    }
   ],
   "source": [
    "import tensorflow as tf\n",
    "from tensorflow.keras.applications import ResNet50\n",
    "from tensorflow.keras.applications.resnet50 import preprocess_input\n",
    "from tensorflow.keras.preprocessing import image\n",
    "\n",
    "# Load a pre-trained ResNet model\n",
    "model = ResNet50(weights='imagenet', include_top=False, pooling='avg')\n",
    "\n",
    "def preprocess_image(image_path):\n",
    "    img = image.load_img(image_path, target_size=(1024, 1024))\n",
    "    img_array = image.img_to_array(img)\n",
    "    img_array = preprocess_input(img_array)\n",
    "    img_array = tf.expand_dims(img_array, 0)  # Add batch dimension\n",
    "    return img_array\n",
    "\n",
    "def extract_features(image_tensor):\n",
    "    features = model.predict(image_tensor)\n",
    "    return features\n",
    "\n",
    "def compare_images(image_path1, image_path2):\n",
    "    image_tensor1 = preprocess_image(image_path1)\n",
    "    image_tensor2 = preprocess_image(image_path2)\n",
    "    \n",
    "    features1 = extract_features(image_tensor1)\n",
    "    features2 = extract_features(image_tensor2)\n",
    "    \n",
    "    # Calculate the cosine similarity between the two feature vectors\n",
    "    cosine_similarity = tf.keras.losses.cosine_similarity(features1, features2)\n",
    "    return cosine_similarity.numpy()[0]  # Extracting the scalar value from the tensor\n",
    "\n",
    "def score_estate(longitude, latitude):\n",
    "    generate_images(longitude, latitude)\n",
    "    image_path1 = 'output_image.jpg'\n",
    "    image_path2 = 'output_image2.jpg'\n",
    "\n",
    "    similarity = compare_images(image_path1, image_path2)\n",
    "    #print(f\"Similarity between the images: {similarity}\")\n",
    "\n",
    "    score = similarity\n",
    "    #(-3 ** (12 * (similarity - 1)) + 1) * 100\n",
    "    return score"
   ]
  },
  {
   "cell_type": "code",
   "execution_count": 7,
   "id": "abad99b1",
   "metadata": {},
   "outputs": [
    {
     "data": {
      "text/html": [
       "\n",
       "            <style>\n",
       "                .geemap-dark {\n",
       "                    --jp-widgets-color: white;\n",
       "                    --jp-widgets-label-color: white;\n",
       "                    --jp-ui-font-color1: white;\n",
       "                    --jp-layout-color2: #454545;\n",
       "                    background-color: #383838;\n",
       "                }\n",
       "                    \n",
       "                .geemap-dark .jupyter-button {\n",
       "                    --jp-layout-color3: #383838;\n",
       "                }\n",
       "                \n",
       "                .geemap-colab {\n",
       "                    background-color: var(--colab-primary-surface-color, white);\n",
       "                }\n",
       "                    \n",
       "                .geemap-colab .jupyter-button {\n",
       "                    --jp-layout-color3: var(--colab-primary-surface-color, white);\n",
       "                }\n",
       "            </style>\n",
       "            "
      ],
      "text/plain": [
       "<IPython.core.display.HTML object>"
      ]
     },
     "metadata": {},
     "output_type": "display_data"
    }
   ],
   "source": [
    "import googlemaps\n",
    "def find_nearby_cities(api_key, location, radius=500000):\n",
    "    # Initialize the Google Maps client\n",
    "    #print(api_key)\n",
    "    gmaps = googlemaps.Client(key=api_key)\n",
    "    \n",
    "    \n",
    "    # Geocoding an address to get latitude and longitude\n",
    "    geocode_result = gmaps.geocode(location)\n",
    "    if not geocode_result:\n",
    "        print(f\"Could not find location: {location}\")\n",
    "        return []\n",
    "    \n",
    "    # Extract latitude and longitude\n",
    "    lat = geocode_result[0][\"geometry\"][\"location\"][\"lat\"]\n",
    "    lng = geocode_result[0][\"geometry\"][\"location\"][\"lng\"]\n",
    "    \n",
    "    # Use the Places API to find nearby places. Adjust the type as needed.\n",
    "    # Here 'locality' is used to find cities/towns. You might need to adjust the type or use the 'keyword' parameter for different searches.\n",
    "    places_result = gmaps.places_nearby(location=(lat, lng), radius=radius, type='locality')\n",
    "    \n",
    "    # Collect the names of nearby cities\n",
    "    nearby_cities = []\n",
    "    for place in places_result['results']:\n",
    "        nearby_cities.append(place['name'])\n",
    "    \n",
    "    # Check if there are more results available\n",
    "    while 'next_page_token' in places_result:\n",
    "        # Fetch the next page of results using the next_page_token\n",
    "        next_page_token = places_result['next_page_token']\n",
    "        places_result = gmaps.places_nearby(location=(lat, lng), radius=radius, type='locality', page_token=next_page_token)\n",
    "        \n",
    "        # Collect the names of nearby cities\n",
    "        for place in places_result['results']:\n",
    "            nearby_cities.append(place['name'])\n",
    "    \n",
    "    return nearby_cities\n",
    "\n",
    "# Example usage\n",
    "api_key = 'PLEASE_INSERT_YOUR_GOOGLE_MAPS_API_KEY'\n"
   ]
  },
  {
   "cell_type": "code",
   "execution_count": 8,
   "id": "1deeb7e3",
   "metadata": {},
   "outputs": [
    {
     "data": {
      "text/html": [
       "\n",
       "            <style>\n",
       "                .geemap-dark {\n",
       "                    --jp-widgets-color: white;\n",
       "                    --jp-widgets-label-color: white;\n",
       "                    --jp-ui-font-color1: white;\n",
       "                    --jp-layout-color2: #454545;\n",
       "                    background-color: #383838;\n",
       "                }\n",
       "                    \n",
       "                .geemap-dark .jupyter-button {\n",
       "                    --jp-layout-color3: #383838;\n",
       "                }\n",
       "                \n",
       "                .geemap-colab {\n",
       "                    background-color: var(--colab-primary-surface-color, white);\n",
       "                }\n",
       "                    \n",
       "                .geemap-colab .jupyter-button {\n",
       "                    --jp-layout-color3: var(--colab-primary-surface-color, white);\n",
       "                }\n",
       "            </style>\n",
       "            "
      ],
      "text/plain": [
       "<IPython.core.display.HTML object>"
      ]
     },
     "metadata": {},
     "output_type": "display_data"
    },
    {
     "name": "stdin",
     "output_type": "stream",
     "text": [
      "Enter the city name:  Atlanta\n",
      "Enter the state name:  Georgia\n"
     ]
    },
    {
     "name": "stdout",
     "output_type": "stream",
     "text": [
      "1/1 [==============================] - 2s 2s/step\n",
      "1/1 [==============================] - 0s 297ms/step\n",
      "1/1 [==============================] - 0s 315ms/step\n",
      "1/1 [==============================] - 0s 321ms/step\n",
      "The recommendation score of Atlanta is 71.80052399635315\n",
      "The recommendation score of Marietta is 62.57222890853882\n"
     ]
    }
   ],
   "source": [
    "import requests\n",
    "def get_lat_long(city, state):\n",
    "    # Format city and state into a single query string\n",
    "    query = f\"{city}, {state}\"\n",
    "\n",
    "    # Base URL for the Nominatim API\n",
    "    base_url = \"https://nominatim.openstreetmap.org/search\"\n",
    "\n",
    "    # Parameters for the API request\n",
    "    params = {\n",
    "        \"q\": query,\n",
    "        \"format\": \"json\",\n",
    "    }\n",
    "\n",
    "    # Send GET request to the API\n",
    "    response = requests.get(base_url, params=params)\n",
    "    data = response.json()\n",
    "\n",
    "    # Extract latitude and longitude from the response\n",
    "    if data:\n",
    "        lat = data[0]['lat']\n",
    "        lon = data[0]['lon']\n",
    "        return float(lat), float(lon)\n",
    "    else:\n",
    "        print(\"Location not found.\")\n",
    "        return None, None\n",
    "\n",
    "def recommendation():\n",
    "    # Prompt the user for city and state\n",
    "    desirable_city = input(\"Enter the city name: \")\n",
    "    state = input(\"Enter the state name: \")\n",
    "    \n",
    "    neighbour = find_nearby_cities(api_key,desirable_city)\n",
    "    \n",
    "    if desirable_city in neighbour:\n",
    "        neighbour.remove(desirable_city)\n",
    "    \n",
    "    lat_cur, long_cur = get_lat_long(desirable_city, state)\n",
    "    \n",
    "    lat_nb, long_nb = get_lat_long(neighbour[0], state)\n",
    "    \n",
    "    #print(neighbour[0])\n",
    "    \n",
    "    score_cur = score_estate(long_cur, lat_cur)\n",
    "    score_neighbour = score_estate(long_nb, lat_nb)\n",
    "    \n",
    "    print(\"The recommendation score of \" + desirable_city + \" is \" + str(score(score_cur)))\n",
    "    print(\"The recommendation score of \" + neighbour[0] + \" is \" + str(score(score_neighbour)))\n",
    "\n",
    "    \n",
    "    #print(score(score_neighbour))\n",
    "\n",
    "def score(val):\n",
    "    #return 100*(-15**val + 1)\n",
    "    return (1+(val/2))*100\n",
    "\n",
    "recommendation()\n"
   ]
  }
 ],
 "metadata": {
  "kernelspec": {
   "display_name": "base",
   "language": "python",
   "name": "base"
  },
  "language_info": {
   "codemirror_mode": {
    "name": "ipython",
    "version": 3
   },
   "file_extension": ".py",
   "mimetype": "text/x-python",
   "name": "python",
   "nbconvert_exporter": "python",
   "pygments_lexer": "ipython3",
   "version": "3.9.16"
  }
 },
 "nbformat": 4,
 "nbformat_minor": 5
}
